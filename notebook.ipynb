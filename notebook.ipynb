{
 "cells": [
  {
   "cell_type": "markdown",
   "metadata": {},
   "source": [
    "# Manipulación y tranformacion de datos "
   ]
  },
  {
   "cell_type": "code",
   "execution_count": 1,
   "metadata": {},
   "outputs": [],
   "source": [
    "import pandas as pd"
   ]
  },
  {
   "cell_type": "markdown",
   "metadata": {},
   "source": [
    "## Carga de datos: Leer el archivo CSV y cargarlo en un DataFrame de pandas."
   ]
  },
  {
   "cell_type": "code",
   "execution_count": 2,
   "metadata": {},
   "outputs": [],
   "source": [
    "empleados = pd.read_csv('data/Employee_Salaries.csv')"
   ]
  },
  {
   "cell_type": "markdown",
   "metadata": {},
   "source": [
    "## Exploración inicial\n",
    "- Verificar la cantidad de registros y columnas en el DataFrame."
   ]
  },
  {
   "cell_type": "code",
   "execution_count": 3,
   "metadata": {},
   "outputs": [
    {
     "name": "stdout",
     "output_type": "stream",
     "text": [
      "Cantidad de registros: 10291\n"
     ]
    }
   ],
   "source": [
    "print(\"Cantidad de registros:\", len(empleados))"
   ]
  },
  {
   "cell_type": "code",
   "execution_count": 4,
   "metadata": {},
   "outputs": [
    {
     "name": "stdout",
     "output_type": "stream",
     "text": [
      "Columnas: Index(['Department', 'Department_Name', 'Division', 'Gender', 'Base_Salary',\n",
      "       'Overtime_Pay', 'Longevity_Pay', 'Grade'],\n",
      "      dtype='object')\n"
     ]
    }
   ],
   "source": [
    "print(\"Columnas:\", empleados.columns)"
   ]
  },
  {
   "cell_type": "markdown",
   "metadata": {},
   "source": [
    "## Mostrar las primeras filas del DataFrame para entender la estructura de los datos."
   ]
  },
  {
   "cell_type": "code",
   "execution_count": 5,
   "metadata": {},
   "outputs": [
    {
     "name": "stdout",
     "output_type": "stream",
     "text": [
      "\n",
      "Primeras filas:\n"
     ]
    }
   ],
   "source": [
    "print(\"\\nPrimeras filas:\")"
   ]
  },
  {
   "cell_type": "code",
   "execution_count": 12,
   "metadata": {},
   "outputs": [
    {
     "data": {
      "text/html": [
       "<div>\n",
       "<style scoped>\n",
       "    .dataframe tbody tr th:only-of-type {\n",
       "        vertical-align: middle;\n",
       "    }\n",
       "\n",
       "    .dataframe tbody tr th {\n",
       "        vertical-align: top;\n",
       "    }\n",
       "\n",
       "    .dataframe thead th {\n",
       "        text-align: right;\n",
       "    }\n",
       "</style>\n",
       "<table border=\"1\" class=\"dataframe\">\n",
       "  <thead>\n",
       "    <tr style=\"text-align: right;\">\n",
       "      <th></th>\n",
       "      <th>Department</th>\n",
       "      <th>Department_Name</th>\n",
       "      <th>Division</th>\n",
       "      <th>Gender</th>\n",
       "      <th>Base_Salary</th>\n",
       "      <th>Overtime_Pay</th>\n",
       "      <th>Longevity_Pay</th>\n",
       "      <th>Grade</th>\n",
       "    </tr>\n",
       "  </thead>\n",
       "  <tbody>\n",
       "    <tr>\n",
       "      <th>0</th>\n",
       "      <td>ABS</td>\n",
       "      <td>Alcohol Beverage Services</td>\n",
       "      <td>ABS 85 Administration</td>\n",
       "      <td>M</td>\n",
       "      <td>175873.000</td>\n",
       "      <td>0.00</td>\n",
       "      <td>0.0</td>\n",
       "      <td>M2</td>\n",
       "    </tr>\n",
       "    <tr>\n",
       "      <th>1</th>\n",
       "      <td>ABS</td>\n",
       "      <td>Alcohol Beverage Services</td>\n",
       "      <td>ABS 85 Administration</td>\n",
       "      <td>M</td>\n",
       "      <td>145613.360</td>\n",
       "      <td>0.00</td>\n",
       "      <td>0.0</td>\n",
       "      <td>M3</td>\n",
       "    </tr>\n",
       "    <tr>\n",
       "      <th>2</th>\n",
       "      <td>ABS</td>\n",
       "      <td>Alcohol Beverage Services</td>\n",
       "      <td>ABS 85 Administration</td>\n",
       "      <td>F</td>\n",
       "      <td>136970.000</td>\n",
       "      <td>0.00</td>\n",
       "      <td>0.0</td>\n",
       "      <td>M3</td>\n",
       "    </tr>\n",
       "    <tr>\n",
       "      <th>3</th>\n",
       "      <td>ABS</td>\n",
       "      <td>Alcohol Beverage Services</td>\n",
       "      <td>ABS 85 Administrative Services</td>\n",
       "      <td>F</td>\n",
       "      <td>89432.694</td>\n",
       "      <td>0.00</td>\n",
       "      <td>2490.0</td>\n",
       "      <td>21</td>\n",
       "    </tr>\n",
       "    <tr>\n",
       "      <th>4</th>\n",
       "      <td>ABS</td>\n",
       "      <td>Alcohol Beverage Services</td>\n",
       "      <td>ABS 85 Administrative Services</td>\n",
       "      <td>F</td>\n",
       "      <td>78947.000</td>\n",
       "      <td>456.68</td>\n",
       "      <td>6257.7</td>\n",
       "      <td>16</td>\n",
       "    </tr>\n",
       "  </tbody>\n",
       "</table>\n",
       "</div>"
      ],
      "text/plain": [
       "  Department            Department_Name                        Division  \\\n",
       "0        ABS  Alcohol Beverage Services           ABS 85 Administration   \n",
       "1        ABS  Alcohol Beverage Services           ABS 85 Administration   \n",
       "2        ABS  Alcohol Beverage Services           ABS 85 Administration   \n",
       "3        ABS  Alcohol Beverage Services  ABS 85 Administrative Services   \n",
       "4        ABS  Alcohol Beverage Services  ABS 85 Administrative Services   \n",
       "\n",
       "  Gender  Base_Salary  Overtime_Pay  Longevity_Pay Grade  \n",
       "0      M   175873.000          0.00            0.0    M2  \n",
       "1      M   145613.360          0.00            0.0    M3  \n",
       "2      F   136970.000          0.00            0.0    M3  \n",
       "3      F    89432.694          0.00         2490.0    21  \n",
       "4      F    78947.000        456.68         6257.7    16  "
      ]
     },
     "execution_count": 12,
     "metadata": {},
     "output_type": "execute_result"
    }
   ],
   "source": [
    "empleados.head()"
   ]
  },
  {
   "cell_type": "markdown",
   "metadata": {},
   "source": [
    "## Comprobar si hay valores nulos o faltantes en alguna columna."
   ]
  },
  {
   "cell_type": "code",
   "execution_count": 7,
   "metadata": {},
   "outputs": [
    {
     "name": "stdout",
     "output_type": "stream",
     "text": [
      "\n",
      "Valores nulos:\n"
     ]
    }
   ],
   "source": [
    "print(\"\\nValores nulos:\")"
   ]
  },
  {
   "cell_type": "code",
   "execution_count": 8,
   "metadata": {},
   "outputs": [
    {
     "name": "stdout",
     "output_type": "stream",
     "text": [
      "Department          0\n",
      "Department_Name     0\n",
      "Division            0\n",
      "Gender              0\n",
      "Base_Salary         0\n",
      "Overtime_Pay        0\n",
      "Longevity_Pay       0\n",
      "Grade              33\n",
      "dtype: int64\n"
     ]
    }
   ],
   "source": [
    "print(empleados.isnull().sum())"
   ]
  },
  {
   "cell_type": "markdown",
   "metadata": {},
   "source": [
    "# Transformación de datos\n",
    "- Crear una nueva columna llamada \"Salario_Mensual\" que contenga el salario mensual de cada empleado (dividiendo el salario anual entre 12)"
   ]
  },
  {
   "cell_type": "code",
   "execution_count": 28,
   "metadata": {},
   "outputs": [],
   "source": [
    "empleados[\"Salario_mensual\"] = empleados[\"Base_Salary\"] / 12"
   ]
  },
  {
   "cell_type": "code",
   "execution_count": 29,
   "metadata": {},
   "outputs": [
    {
     "data": {
      "text/html": [
       "<div>\n",
       "<style scoped>\n",
       "    .dataframe tbody tr th:only-of-type {\n",
       "        vertical-align: middle;\n",
       "    }\n",
       "\n",
       "    .dataframe tbody tr th {\n",
       "        vertical-align: top;\n",
       "    }\n",
       "\n",
       "    .dataframe thead th {\n",
       "        text-align: right;\n",
       "    }\n",
       "</style>\n",
       "<table border=\"1\" class=\"dataframe\">\n",
       "  <thead>\n",
       "    <tr style=\"text-align: right;\">\n",
       "      <th></th>\n",
       "      <th>Department</th>\n",
       "      <th>Department_Name</th>\n",
       "      <th>Division</th>\n",
       "      <th>Gender</th>\n",
       "      <th>Base_Salary</th>\n",
       "      <th>Overtime_Pay</th>\n",
       "      <th>Longevity_Pay</th>\n",
       "      <th>Grade</th>\n",
       "      <th>Salario_anual</th>\n",
       "      <th>Salario_mensual</th>\n",
       "    </tr>\n",
       "  </thead>\n",
       "  <tbody>\n",
       "    <tr>\n",
       "      <th>0</th>\n",
       "      <td>ABS</td>\n",
       "      <td>Alcohol Beverage Services</td>\n",
       "      <td>ABS 85 Administration</td>\n",
       "      <td>M</td>\n",
       "      <td>175873.0000</td>\n",
       "      <td>0.00</td>\n",
       "      <td>0.00</td>\n",
       "      <td>M2</td>\n",
       "      <td>14656.083333</td>\n",
       "      <td>14656.083333</td>\n",
       "    </tr>\n",
       "    <tr>\n",
       "      <th>1</th>\n",
       "      <td>ABS</td>\n",
       "      <td>Alcohol Beverage Services</td>\n",
       "      <td>ABS 85 Administration</td>\n",
       "      <td>M</td>\n",
       "      <td>145613.3600</td>\n",
       "      <td>0.00</td>\n",
       "      <td>0.00</td>\n",
       "      <td>M3</td>\n",
       "      <td>12134.446667</td>\n",
       "      <td>12134.446667</td>\n",
       "    </tr>\n",
       "    <tr>\n",
       "      <th>2</th>\n",
       "      <td>ABS</td>\n",
       "      <td>Alcohol Beverage Services</td>\n",
       "      <td>ABS 85 Administration</td>\n",
       "      <td>F</td>\n",
       "      <td>136970.0000</td>\n",
       "      <td>0.00</td>\n",
       "      <td>0.00</td>\n",
       "      <td>M3</td>\n",
       "      <td>11414.166667</td>\n",
       "      <td>11414.166667</td>\n",
       "    </tr>\n",
       "    <tr>\n",
       "      <th>3</th>\n",
       "      <td>ABS</td>\n",
       "      <td>Alcohol Beverage Services</td>\n",
       "      <td>ABS 85 Administrative Services</td>\n",
       "      <td>F</td>\n",
       "      <td>89432.6940</td>\n",
       "      <td>0.00</td>\n",
       "      <td>2490.00</td>\n",
       "      <td>21</td>\n",
       "      <td>7452.724500</td>\n",
       "      <td>7452.724500</td>\n",
       "    </tr>\n",
       "    <tr>\n",
       "      <th>4</th>\n",
       "      <td>ABS</td>\n",
       "      <td>Alcohol Beverage Services</td>\n",
       "      <td>ABS 85 Administrative Services</td>\n",
       "      <td>F</td>\n",
       "      <td>78947.0000</td>\n",
       "      <td>456.68</td>\n",
       "      <td>6257.70</td>\n",
       "      <td>16</td>\n",
       "      <td>6578.916667</td>\n",
       "      <td>6578.916667</td>\n",
       "    </tr>\n",
       "    <tr>\n",
       "      <th>...</th>\n",
       "      <td>...</td>\n",
       "      <td>...</td>\n",
       "      <td>...</td>\n",
       "      <td>...</td>\n",
       "      <td>...</td>\n",
       "      <td>...</td>\n",
       "      <td>...</td>\n",
       "      <td>...</td>\n",
       "      <td>...</td>\n",
       "      <td>...</td>\n",
       "    </tr>\n",
       "    <tr>\n",
       "      <th>10286</th>\n",
       "      <td>TBS</td>\n",
       "      <td>Department of Technology and Enterprise Busine...</td>\n",
       "      <td>TBS 34 OSP Low Code Governance and Administration</td>\n",
       "      <td>M</td>\n",
       "      <td>134500.0000</td>\n",
       "      <td>0.00</td>\n",
       "      <td>0.00</td>\n",
       "      <td>N28</td>\n",
       "      <td>11208.333333</td>\n",
       "      <td>11208.333333</td>\n",
       "    </tr>\n",
       "    <tr>\n",
       "      <th>10287</th>\n",
       "      <td>ZAH</td>\n",
       "      <td>Office of Zoning and Administrative Hearings</td>\n",
       "      <td>ZAH 05 Director</td>\n",
       "      <td>F</td>\n",
       "      <td>215032.1000</td>\n",
       "      <td>0.00</td>\n",
       "      <td>0.00</td>\n",
       "      <td>NaN</td>\n",
       "      <td>17919.341667</td>\n",
       "      <td>17919.341667</td>\n",
       "    </tr>\n",
       "    <tr>\n",
       "      <th>10288</th>\n",
       "      <td>ZAH</td>\n",
       "      <td>Office of Zoning and Administrative Hearings</td>\n",
       "      <td>ZAH 05 Office of Zoning and Administrative Hea...</td>\n",
       "      <td>F</td>\n",
       "      <td>84365.5529</td>\n",
       "      <td>0.00</td>\n",
       "      <td>0.00</td>\n",
       "      <td>N18</td>\n",
       "      <td>7030.462742</td>\n",
       "      <td>7030.462742</td>\n",
       "    </tr>\n",
       "    <tr>\n",
       "      <th>10289</th>\n",
       "      <td>ZAH</td>\n",
       "      <td>Office of Zoning and Administrative Hearings</td>\n",
       "      <td>ZAH 05 Zoning and Administrative Hearings</td>\n",
       "      <td>F</td>\n",
       "      <td>98228.0000</td>\n",
       "      <td>0.00</td>\n",
       "      <td>1596.27</td>\n",
       "      <td>N21</td>\n",
       "      <td>8185.666667</td>\n",
       "      <td>8185.666667</td>\n",
       "    </tr>\n",
       "    <tr>\n",
       "      <th>10290</th>\n",
       "      <td>ZAH</td>\n",
       "      <td>Office of Zoning and Administrative Hearings</td>\n",
       "      <td>ZAH 05 Zoning and Administrative Hearings</td>\n",
       "      <td>F</td>\n",
       "      <td>177976.3100</td>\n",
       "      <td>0.00</td>\n",
       "      <td>0.00</td>\n",
       "      <td>N35</td>\n",
       "      <td>14831.359167</td>\n",
       "      <td>14831.359167</td>\n",
       "    </tr>\n",
       "  </tbody>\n",
       "</table>\n",
       "<p>10291 rows × 10 columns</p>\n",
       "</div>"
      ],
      "text/plain": [
       "      Department                                    Department_Name  \\\n",
       "0            ABS                          Alcohol Beverage Services   \n",
       "1            ABS                          Alcohol Beverage Services   \n",
       "2            ABS                          Alcohol Beverage Services   \n",
       "3            ABS                          Alcohol Beverage Services   \n",
       "4            ABS                          Alcohol Beverage Services   \n",
       "...          ...                                                ...   \n",
       "10286        TBS  Department of Technology and Enterprise Busine...   \n",
       "10287        ZAH       Office of Zoning and Administrative Hearings   \n",
       "10288        ZAH       Office of Zoning and Administrative Hearings   \n",
       "10289        ZAH       Office of Zoning and Administrative Hearings   \n",
       "10290        ZAH       Office of Zoning and Administrative Hearings   \n",
       "\n",
       "                                                Division Gender  Base_Salary  \\\n",
       "0                                  ABS 85 Administration      M  175873.0000   \n",
       "1                                  ABS 85 Administration      M  145613.3600   \n",
       "2                                  ABS 85 Administration      F  136970.0000   \n",
       "3                         ABS 85 Administrative Services      F   89432.6940   \n",
       "4                         ABS 85 Administrative Services      F   78947.0000   \n",
       "...                                                  ...    ...          ...   \n",
       "10286  TBS 34 OSP Low Code Governance and Administration      M  134500.0000   \n",
       "10287                                    ZAH 05 Director      F  215032.1000   \n",
       "10288  ZAH 05 Office of Zoning and Administrative Hea...      F   84365.5529   \n",
       "10289          ZAH 05 Zoning and Administrative Hearings      F   98228.0000   \n",
       "10290          ZAH 05 Zoning and Administrative Hearings      F  177976.3100   \n",
       "\n",
       "       Overtime_Pay  Longevity_Pay Grade  Salario_anual  Salario_mensual  \n",
       "0              0.00           0.00    M2   14656.083333     14656.083333  \n",
       "1              0.00           0.00    M3   12134.446667     12134.446667  \n",
       "2              0.00           0.00    M3   11414.166667     11414.166667  \n",
       "3              0.00        2490.00    21    7452.724500      7452.724500  \n",
       "4            456.68        6257.70    16    6578.916667      6578.916667  \n",
       "...             ...            ...   ...            ...              ...  \n",
       "10286          0.00           0.00   N28   11208.333333     11208.333333  \n",
       "10287          0.00           0.00   NaN   17919.341667     17919.341667  \n",
       "10288          0.00           0.00   N18    7030.462742      7030.462742  \n",
       "10289          0.00        1596.27   N21    8185.666667      8185.666667  \n",
       "10290          0.00           0.00   N35   14831.359167     14831.359167  \n",
       "\n",
       "[10291 rows x 10 columns]"
      ]
     },
     "execution_count": 29,
     "metadata": {},
     "output_type": "execute_result"
    }
   ],
   "source": [
    "empleados"
   ]
  },
  {
   "cell_type": "markdown",
   "metadata": {},
   "source": [
    "## Calcular el promedio de salario por departamento."
   ]
  },
  {
   "cell_type": "code",
   "execution_count": 30,
   "metadata": {},
   "outputs": [],
   "source": [
    "promedio_horas_por_departamento = empleados.groupby(\"Department_Name\")[\"Salario_mensual\"].mean()"
   ]
  },
  {
   "cell_type": "code",
   "execution_count": 31,
   "metadata": {},
   "outputs": [
    {
     "data": {
      "text/plain": [
       "Department_Name\n",
       "Alcohol Beverage Services                                      5404.434987\n",
       "Board of Appeals Department                                    8706.877244\n",
       "Board of Elections                                             7126.428071\n",
       "Community Engagement Cluster                                   6480.344856\n",
       "Community Use of Public Facilities                             7625.927152\n",
       "Correction and Rehabilitation                                  7080.015017\n",
       "County Attorney's Office                                      10806.739197\n",
       "County Council                                                 8812.880424\n",
       "Department of Environmental Protection                         8720.372235\n",
       "Department of Finance                                          9594.153443\n",
       "Department of General Services                                 7668.492105\n",
       "Department of Health and Human Services                        7422.027654\n",
       "Department of Housing and Community Affairs                    8708.815398\n",
       "Department of Permitting Services                              8694.258714\n",
       "Department of Police                                           7589.239663\n",
       "Department of Public Libraries                                 5369.049808\n",
       "Department of Recreation                                       7002.318728\n",
       "Department of Technology and Enterprise Business Solutions    11036.767610\n",
       "Department of Transportation                                   6811.711888\n",
       "Ethics Commission                                             11782.368750\n",
       "Fire and Rescue Services                                       8007.656340\n",
       "Merit System Protection Board Department                       7742.237246\n",
       "Non-Departmental Account                                      11737.532059\n",
       "Office of Agriculture                                          8384.347672\n",
       "Office of Animal Services                                      6376.134613\n",
       "Office of Consumer Protection                                  8900.287743\n",
       "Office of Emergency Management and Homeland Security           9259.609603\n",
       "Office of Food Systems Resilience                              9398.138889\n",
       "Office of Grants Management                                    8716.603000\n",
       "Office of Human Resources                                      9151.357365\n",
       "Office of Human Rights                                         9015.183677\n",
       "Office of Intergovernmental Relations Department              13766.395833\n",
       "Office of Labor Relations                                     11539.802292\n",
       "Office of Legislative Oversight                               11134.665224\n",
       "Office of Management and Budget                               10680.399643\n",
       "Office of Procurement                                          8609.478678\n",
       "Office of Public Information                                   7388.630391\n",
       "Office of Racial Equity and Social Justice                    10175.147764\n",
       "Office of Zoning and Administrative Hearings                  11991.707560\n",
       "Office of the Inspector General                               10553.158141\n",
       "Offices of the County Executive                               10659.977880\n",
       "Sheriff's Office                                               7491.022187\n",
       "Name: Salario_mensual, dtype: float64"
      ]
     },
     "execution_count": 31,
     "metadata": {},
     "output_type": "execute_result"
    }
   ],
   "source": [
    "promedio_horas_por_departamento"
   ]
  },
  {
   "cell_type": "code",
   "execution_count": 32,
   "metadata": {},
   "outputs": [],
   "source": [
    "empleados_mas_de_160_horas = empleados[empleados[\"Salario_mensual\"] > 160]\n"
   ]
  },
  {
   "cell_type": "code",
   "execution_count": 33,
   "metadata": {},
   "outputs": [
    {
     "data": {
      "text/html": [
       "<div>\n",
       "<style scoped>\n",
       "    .dataframe tbody tr th:only-of-type {\n",
       "        vertical-align: middle;\n",
       "    }\n",
       "\n",
       "    .dataframe tbody tr th {\n",
       "        vertical-align: top;\n",
       "    }\n",
       "\n",
       "    .dataframe thead th {\n",
       "        text-align: right;\n",
       "    }\n",
       "</style>\n",
       "<table border=\"1\" class=\"dataframe\">\n",
       "  <thead>\n",
       "    <tr style=\"text-align: right;\">\n",
       "      <th></th>\n",
       "      <th>Department</th>\n",
       "      <th>Department_Name</th>\n",
       "      <th>Division</th>\n",
       "      <th>Gender</th>\n",
       "      <th>Base_Salary</th>\n",
       "      <th>Overtime_Pay</th>\n",
       "      <th>Longevity_Pay</th>\n",
       "      <th>Grade</th>\n",
       "      <th>Salario_anual</th>\n",
       "      <th>Salario_mensual</th>\n",
       "    </tr>\n",
       "  </thead>\n",
       "  <tbody>\n",
       "    <tr>\n",
       "      <th>0</th>\n",
       "      <td>ABS</td>\n",
       "      <td>Alcohol Beverage Services</td>\n",
       "      <td>ABS 85 Administration</td>\n",
       "      <td>M</td>\n",
       "      <td>175873.0000</td>\n",
       "      <td>0.00</td>\n",
       "      <td>0.00</td>\n",
       "      <td>M2</td>\n",
       "      <td>14656.083333</td>\n",
       "      <td>14656.083333</td>\n",
       "    </tr>\n",
       "    <tr>\n",
       "      <th>1</th>\n",
       "      <td>ABS</td>\n",
       "      <td>Alcohol Beverage Services</td>\n",
       "      <td>ABS 85 Administration</td>\n",
       "      <td>M</td>\n",
       "      <td>145613.3600</td>\n",
       "      <td>0.00</td>\n",
       "      <td>0.00</td>\n",
       "      <td>M3</td>\n",
       "      <td>12134.446667</td>\n",
       "      <td>12134.446667</td>\n",
       "    </tr>\n",
       "    <tr>\n",
       "      <th>2</th>\n",
       "      <td>ABS</td>\n",
       "      <td>Alcohol Beverage Services</td>\n",
       "      <td>ABS 85 Administration</td>\n",
       "      <td>F</td>\n",
       "      <td>136970.0000</td>\n",
       "      <td>0.00</td>\n",
       "      <td>0.00</td>\n",
       "      <td>M3</td>\n",
       "      <td>11414.166667</td>\n",
       "      <td>11414.166667</td>\n",
       "    </tr>\n",
       "    <tr>\n",
       "      <th>3</th>\n",
       "      <td>ABS</td>\n",
       "      <td>Alcohol Beverage Services</td>\n",
       "      <td>ABS 85 Administrative Services</td>\n",
       "      <td>F</td>\n",
       "      <td>89432.6940</td>\n",
       "      <td>0.00</td>\n",
       "      <td>2490.00</td>\n",
       "      <td>21</td>\n",
       "      <td>7452.724500</td>\n",
       "      <td>7452.724500</td>\n",
       "    </tr>\n",
       "    <tr>\n",
       "      <th>4</th>\n",
       "      <td>ABS</td>\n",
       "      <td>Alcohol Beverage Services</td>\n",
       "      <td>ABS 85 Administrative Services</td>\n",
       "      <td>F</td>\n",
       "      <td>78947.0000</td>\n",
       "      <td>456.68</td>\n",
       "      <td>6257.70</td>\n",
       "      <td>16</td>\n",
       "      <td>6578.916667</td>\n",
       "      <td>6578.916667</td>\n",
       "    </tr>\n",
       "    <tr>\n",
       "      <th>...</th>\n",
       "      <td>...</td>\n",
       "      <td>...</td>\n",
       "      <td>...</td>\n",
       "      <td>...</td>\n",
       "      <td>...</td>\n",
       "      <td>...</td>\n",
       "      <td>...</td>\n",
       "      <td>...</td>\n",
       "      <td>...</td>\n",
       "      <td>...</td>\n",
       "    </tr>\n",
       "    <tr>\n",
       "      <th>10286</th>\n",
       "      <td>TBS</td>\n",
       "      <td>Department of Technology and Enterprise Busine...</td>\n",
       "      <td>TBS 34 OSP Low Code Governance and Administration</td>\n",
       "      <td>M</td>\n",
       "      <td>134500.0000</td>\n",
       "      <td>0.00</td>\n",
       "      <td>0.00</td>\n",
       "      <td>N28</td>\n",
       "      <td>11208.333333</td>\n",
       "      <td>11208.333333</td>\n",
       "    </tr>\n",
       "    <tr>\n",
       "      <th>10287</th>\n",
       "      <td>ZAH</td>\n",
       "      <td>Office of Zoning and Administrative Hearings</td>\n",
       "      <td>ZAH 05 Director</td>\n",
       "      <td>F</td>\n",
       "      <td>215032.1000</td>\n",
       "      <td>0.00</td>\n",
       "      <td>0.00</td>\n",
       "      <td>NaN</td>\n",
       "      <td>17919.341667</td>\n",
       "      <td>17919.341667</td>\n",
       "    </tr>\n",
       "    <tr>\n",
       "      <th>10288</th>\n",
       "      <td>ZAH</td>\n",
       "      <td>Office of Zoning and Administrative Hearings</td>\n",
       "      <td>ZAH 05 Office of Zoning and Administrative Hea...</td>\n",
       "      <td>F</td>\n",
       "      <td>84365.5529</td>\n",
       "      <td>0.00</td>\n",
       "      <td>0.00</td>\n",
       "      <td>N18</td>\n",
       "      <td>7030.462742</td>\n",
       "      <td>7030.462742</td>\n",
       "    </tr>\n",
       "    <tr>\n",
       "      <th>10289</th>\n",
       "      <td>ZAH</td>\n",
       "      <td>Office of Zoning and Administrative Hearings</td>\n",
       "      <td>ZAH 05 Zoning and Administrative Hearings</td>\n",
       "      <td>F</td>\n",
       "      <td>98228.0000</td>\n",
       "      <td>0.00</td>\n",
       "      <td>1596.27</td>\n",
       "      <td>N21</td>\n",
       "      <td>8185.666667</td>\n",
       "      <td>8185.666667</td>\n",
       "    </tr>\n",
       "    <tr>\n",
       "      <th>10290</th>\n",
       "      <td>ZAH</td>\n",
       "      <td>Office of Zoning and Administrative Hearings</td>\n",
       "      <td>ZAH 05 Zoning and Administrative Hearings</td>\n",
       "      <td>F</td>\n",
       "      <td>177976.3100</td>\n",
       "      <td>0.00</td>\n",
       "      <td>0.00</td>\n",
       "      <td>N35</td>\n",
       "      <td>14831.359167</td>\n",
       "      <td>14831.359167</td>\n",
       "    </tr>\n",
       "  </tbody>\n",
       "</table>\n",
       "<p>10291 rows × 10 columns</p>\n",
       "</div>"
      ],
      "text/plain": [
       "      Department                                    Department_Name  \\\n",
       "0            ABS                          Alcohol Beverage Services   \n",
       "1            ABS                          Alcohol Beverage Services   \n",
       "2            ABS                          Alcohol Beverage Services   \n",
       "3            ABS                          Alcohol Beverage Services   \n",
       "4            ABS                          Alcohol Beverage Services   \n",
       "...          ...                                                ...   \n",
       "10286        TBS  Department of Technology and Enterprise Busine...   \n",
       "10287        ZAH       Office of Zoning and Administrative Hearings   \n",
       "10288        ZAH       Office of Zoning and Administrative Hearings   \n",
       "10289        ZAH       Office of Zoning and Administrative Hearings   \n",
       "10290        ZAH       Office of Zoning and Administrative Hearings   \n",
       "\n",
       "                                                Division Gender  Base_Salary  \\\n",
       "0                                  ABS 85 Administration      M  175873.0000   \n",
       "1                                  ABS 85 Administration      M  145613.3600   \n",
       "2                                  ABS 85 Administration      F  136970.0000   \n",
       "3                         ABS 85 Administrative Services      F   89432.6940   \n",
       "4                         ABS 85 Administrative Services      F   78947.0000   \n",
       "...                                                  ...    ...          ...   \n",
       "10286  TBS 34 OSP Low Code Governance and Administration      M  134500.0000   \n",
       "10287                                    ZAH 05 Director      F  215032.1000   \n",
       "10288  ZAH 05 Office of Zoning and Administrative Hea...      F   84365.5529   \n",
       "10289          ZAH 05 Zoning and Administrative Hearings      F   98228.0000   \n",
       "10290          ZAH 05 Zoning and Administrative Hearings      F  177976.3100   \n",
       "\n",
       "       Overtime_Pay  Longevity_Pay Grade  Salario_anual  Salario_mensual  \n",
       "0              0.00           0.00    M2   14656.083333     14656.083333  \n",
       "1              0.00           0.00    M3   12134.446667     12134.446667  \n",
       "2              0.00           0.00    M3   11414.166667     11414.166667  \n",
       "3              0.00        2490.00    21    7452.724500      7452.724500  \n",
       "4            456.68        6257.70    16    6578.916667      6578.916667  \n",
       "...             ...            ...   ...            ...              ...  \n",
       "10286          0.00           0.00   N28   11208.333333     11208.333333  \n",
       "10287          0.00           0.00   NaN   17919.341667     17919.341667  \n",
       "10288          0.00           0.00   N18    7030.462742      7030.462742  \n",
       "10289          0.00        1596.27   N21    8185.666667      8185.666667  \n",
       "10290          0.00           0.00   N35   14831.359167     14831.359167  \n",
       "\n",
       "[10291 rows x 10 columns]"
      ]
     },
     "execution_count": 33,
     "metadata": {},
     "output_type": "execute_result"
    }
   ],
   "source": [
    "empleados_mas_de_160_horas"
   ]
  },
  {
   "cell_type": "markdown",
   "metadata": {},
   "source": [
    "## Agregación de datos\n",
    "- Calcular el salario total pagado por la empresa en el último mes."
   ]
  },
  {
   "cell_type": "code",
   "execution_count": 51,
   "metadata": {},
   "outputs": [],
   "source": [
    "empleados ['Salario_bruto'] = empleados ['Salario_mensual'] + empleados ['Overtime_Pay'] /12 + empleados['Longevity_Pay'] / 12"
   ]
  },
  {
   "cell_type": "code",
   "execution_count": 57,
   "metadata": {},
   "outputs": [],
   "source": [
    "nomina = empleados['Salario_bruto'].sum()"
   ]
  },
  {
   "cell_type": "code",
   "execution_count": 58,
   "metadata": {},
   "outputs": [
    {
     "data": {
      "text/plain": [
       "85696019.19696666"
      ]
     },
     "execution_count": 58,
     "metadata": {},
     "output_type": "execute_result"
    }
   ],
   "source": [
    "nomina"
   ]
  },
  {
   "cell_type": "code",
   "execution_count": 59,
   "metadata": {},
   "outputs": [
    {
     "name": "stdout",
     "output_type": "stream",
     "text": [
      "La nomina mensual es de 85696019.19696666\n"
     ]
    }
   ],
   "source": [
    "print(f'La nomina mensual es de {nomina}')"
   ]
  },
  {
   "cell_type": "markdown",
   "metadata": {},
   "source": [
    "# Calcular el total de empleados en cada departamento."
   ]
  },
  {
   "cell_type": "code",
   "execution_count": 63,
   "metadata": {},
   "outputs": [
    {
     "data": {
      "text/plain": [
       "Department_Name\n",
       "Department of Health and Human Services                       1877\n",
       "Department of Police                                          1794\n",
       "Fire and Rescue Services                                      1440\n",
       "Department of Transportation                                  1289\n",
       "Correction and Rehabilitation                                  513\n",
       "Alcohol Beverage Services                                      462\n",
       "Department of Public Libraries                                 427\n",
       "Department of General Services                                 424\n",
       "Department of Permitting Services                              243\n",
       "Department of Recreation                                       193\n",
       "Sheriff's Office                                               188\n",
       "Department of Environmental Protection                         185\n",
       "Department of Technology and Enterprise Business Solutions     159\n",
       "County Council                                                 131\n",
       "Department of Finance                                          121\n",
       "Community Engagement Cluster                                   105\n",
       "Department of Housing and Community Affairs                    101\n",
       "County Attorney's Office                                        78\n",
       "Office of Animal Services                                       77\n",
       "Office of Public Information                                    68\n",
       "Office of Human Resources                                       68\n",
       "Offices of the County Executive                                 48\n",
       "Office of Management and Budget                                 46\n",
       "Office of Procurement                                           36\n",
       "Board of Elections                                              34\n",
       "Community Use of Public Facilities                              30\n",
       "Office of Emergency Management and Homeland Security            21\n",
       "Non-Departmental Account                                        20\n",
       "Office of the Inspector General                                 20\n",
       "Office of Consumer Protection                                   19\n",
       "Office of Legislative Oversight                                 15\n",
       "Office of Human Rights                                          11\n",
       "Office of Agriculture                                           11\n",
       "Office of Labor Relations                                        8\n",
       "Office of Racial Equity and Social Justice                       6\n",
       "Office of Grants Management                                      5\n",
       "Office of Intergovernmental Relations Department                 4\n",
       "Office of Zoning and Administrative Hearings                     4\n",
       "Office of Food Systems Resilience                                3\n",
       "Board of Appeals Department                                      3\n",
       "Ethics Commission                                                2\n",
       "Merit System Protection Board Department                         2\n",
       "Name: Department, dtype: int64"
      ]
     },
     "execution_count": 63,
     "metadata": {},
     "output_type": "execute_result"
    }
   ],
   "source": [
    "empleados .groupby(\"Department_Name\")[\"Department\"].count().sort_values(ascending=False)"
   ]
  },
  {
   "cell_type": "code",
   "execution_count": 62,
   "metadata": {},
   "outputs": [
    {
     "data": {
      "text/plain": [
       "Department_Name\n",
       "Department of Health and Human Services                       1877\n",
       "Department of Police                                          1794\n",
       "Fire and Rescue Services                                      1440\n",
       "Department of Transportation                                  1289\n",
       "Correction and Rehabilitation                                  513\n",
       "Alcohol Beverage Services                                      462\n",
       "Department of Public Libraries                                 427\n",
       "Department of General Services                                 424\n",
       "Department of Permitting Services                              243\n",
       "Department of Recreation                                       193\n",
       "Sheriff's Office                                               188\n",
       "Department of Environmental Protection                         185\n",
       "Department of Technology and Enterprise Business Solutions     159\n",
       "County Council                                                 131\n",
       "Department of Finance                                          121\n",
       "Community Engagement Cluster                                   105\n",
       "Department of Housing and Community Affairs                    101\n",
       "County Attorney's Office                                        78\n",
       "Office of Animal Services                                       77\n",
       "Office of Human Resources                                       68\n",
       "Office of Public Information                                    68\n",
       "Offices of the County Executive                                 48\n",
       "Office of Management and Budget                                 46\n",
       "Office of Procurement                                           36\n",
       "Board of Elections                                              34\n",
       "Community Use of Public Facilities                              30\n",
       "Office of Emergency Management and Homeland Security            21\n",
       "Non-Departmental Account                                        20\n",
       "Office of the Inspector General                                 20\n",
       "Office of Consumer Protection                                   19\n",
       "Office of Legislative Oversight                                 15\n",
       "Office of Agriculture                                           11\n",
       "Office of Human Rights                                          11\n",
       "Office of Labor Relations                                        8\n",
       "Office of Racial Equity and Social Justice                       6\n",
       "Office of Grants Management                                      5\n",
       "Office of Intergovernmental Relations Department                 4\n",
       "Office of Zoning and Administrative Hearings                     4\n",
       "Office of Food Systems Resilience                                3\n",
       "Board of Appeals Department                                      3\n",
       "Merit System Protection Board Department                         2\n",
       "Ethics Commission                                                2\n",
       "Name: count, dtype: int64"
      ]
     },
     "execution_count": 62,
     "metadata": {},
     "output_type": "execute_result"
    }
   ],
   "source": [
    "empleados['Department_Name'].value_counts()"
   ]
  }
 ],
 "metadata": {
  "kernelspec": {
   "display_name": "Python 3",
   "language": "python",
   "name": "python3"
  },
  "language_info": {
   "codemirror_mode": {
    "name": "ipython",
    "version": 3
   },
   "file_extension": ".py",
   "mimetype": "text/x-python",
   "name": "python",
   "nbconvert_exporter": "python",
   "pygments_lexer": "ipython3",
   "version": "3.12.3"
  }
 },
 "nbformat": 4,
 "nbformat_minor": 2
}
